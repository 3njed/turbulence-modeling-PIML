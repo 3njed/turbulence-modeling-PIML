{
 "cells": [
  {
   "cell_type": "code",
   "execution_count": null,
   "metadata": {
    "collapsed": true
   },
   "outputs": [],
   "source": [
    "from IPython.display import Image"
   ]
  },
  {
   "cell_type": "markdown",
   "metadata": {},
   "source": [
    "# Overview\n",
    "This code implements the PIML regresson procedure described in Wang et al. 2017, with the case of flow over periodic hills as example. \n",
    "\n",
    "* J.-X. Wang, J.-L. Wu, and H. Xiao. Physics informed machine learning approach for reconstructing Reynolds stress modeling discrepancies based on DNS data. Physical Review Fluids. 2(3), 034603, 1-22, 2017. https://doi.org/10.1103/PhysRevFluids.2.034603[DOI:10.1103/PhysRevFluids.2.034603]"
   ]
  },
  {
   "cell_type": "markdown",
   "metadata": {},
   "source": [
    "# Algorithm of PIML-Based Turbulence Modeling\n",
    "The overall procedure can be summarized as follows:\n",
    "\n",
    "1. Perform baseline RANS simulations on both the training flows and the test flow.\n",
    "1. Compute the input feature field $\\mathbf{q}(\\mathbf{x})$ based on the local \n",
    " \tRANS flow variables. \n",
    "1. Compute the discrepancies field $\\Delta \\boldsymbol{\\tau}(\\mathbf{x})$ in the RANS-modeled \n",
    " \tReynolds stresses for the training flows based on the high-fidelity data.\n",
    "1. **Construct regression functions $ f: \\mathbf{q} \\mapsto \\Delta \\boldsymbol{\\tau}$ for the\n",
    " \tdiscrepancies based on the training data prepared in Step 3, using machine learning algorithms.**\n",
    "1. Compute the Reynolds stress discrepancies for the test flow by querying the regression\n",
    " \tfunctions. The Reynolds stresses can subsequently be obtained by correcting the baseline RANS \n",
    " \tpredictions with the evaluated discrepancies.\n",
    "1. Propagate the corrected Reynolds stresses to the mean velocity field by solving the RANS \n",
    " \tequations with the corrected Reynolds stress field.\n",
    "\n",
    "\n",
    "**This code only performs Step 4.** (see the green-shaded box below in the flow chart). The training data prepared in Steps 1-3 are saved in _database_ folder.\n"
   ]
  },
  {
   "cell_type": "code",
   "execution_count": null,
   "metadata": {
    "collapsed": true
   },
   "outputs": [],
   "source": [
    "Image(filename='figs/PIML-algorithm.png')"
   ]
  },
  {
   "cell_type": "markdown",
   "metadata": {},
   "source": [
    "# Machine learning algorithms\n",
    "\n",
    "The procedure implented here consists of three parts:\n",
    "\n",
    "1. load training and test data\n",
    "2. construct regression function $\\Delta \\boldsymbol{\\tau} (\\mathbf{q})$ (detailed below)\n",
    "3. plot the anisotropy parameters $\\xi$ and $\\eta$ (componebnts of $\\Delta \\boldsymbol{\\tau}$) and compare with ground truth (DNS)\n",
    "\n",
    "We used two algorithms to build the regression function: \n",
    "\n",
    "* Random Forests (based on scikit-learn). This is what was used in Wang et al.\n",
    "* Neural networks (based on Tensorflow)\n",
    "\n",
    "Both algorithms yielded similar results, but the former is cheaper computationally."
   ]
  },
  {
   "cell_type": "markdown",
   "metadata": {},
   "source": [
    "The input features consist of 12 variables (see Table 1 below and also Wang et al.)"
   ]
  },
  {
   "cell_type": "code",
   "execution_count": null,
   "metadata": {
    "collapsed": true
   },
   "outputs": [],
   "source": [
    "Image(filename='figs/features.png')"
   ]
  },
  {
   "cell_type": "code",
   "execution_count": null,
   "metadata": {
    "collapsed": true
   },
   "outputs": [],
   "source": [
    "%matplotlib inline\n",
    "## Import system modules\n",
    "# sci computing\n",
    "import numpy as np\n",
    "# sklearn importing\n",
    "from sklearn.ensemble.forest import RandomForestRegressor\n",
    "# plotting\n",
    "import matplotlib.pyplot as plt  # for plotting\n",
    "#import matplotlib as mp\n",
    "\n",
    "# keras importing\n",
    "from keras.models import Sequential\n",
    "from keras.layers import Dense\n",
    "\n",
    "import time"
   ]
  },
  {
   "cell_type": "code",
   "execution_count": null,
   "metadata": {
    "collapsed": true
   },
   "outputs": [],
   "source": [
    "def loadTrainingData(caseName, ReNum):\n",
    "    trainFeaturesFile = './database/' + caseName + '/markers/' + ReNum + '/markerFile'\n",
    "    trainResponsesFile = './database/' + caseName + '/deltaFields/' + ReNum + '/deltaField'\n",
    "    trainFeatures = np.loadtxt(trainFeaturesFile)\n",
    "    trainResponses = np.loadtxt(trainResponsesFile)\n",
    "    return trainFeatures, trainResponses"
   ]
  },
  {
   "cell_type": "code",
   "execution_count": null,
   "metadata": {
    "collapsed": true
   },
   "outputs": [],
   "source": [
    "def loadTestData(caseName, ReNum):\n",
    "    testFeaturesFile = './database/' + caseName + '/markers/' + ReNum + '/markerFile'\n",
    "    testResponsesFile = './database/' + caseName + '/deltaFields/' + ReNum + '/deltaField'\n",
    "    testFeatures = np.loadtxt(testFeaturesFile)\n",
    "    testResponses = np.loadtxt(testResponsesFile)\n",
    "    return testFeatures, testResponses"
   ]
  },
  {
   "cell_type": "code",
   "execution_count": null,
   "metadata": {
    "collapsed": true
   },
   "outputs": [],
   "source": [
    "def randomForest(trainFeatures, trainResponses, testFeatures, maxFeatures = 'log2', nTree=100):\n",
    "    ## Settings of random forests regressor\n",
    "    regModel = RandomForestRegressor(n_estimators=nTree, max_features=maxFeatures)    \n",
    "    ## Train the random forests regressor\n",
    "    regModel.fit(trainFeatures, trainResponses)\n",
    "    ## Prediction\n",
    "    testResponsesPred = regModel.predict(testFeatures)\n",
    "    return testResponsesPred"
   ]
  },
  {
   "cell_type": "code",
   "execution_count": null,
   "metadata": {
    "collapsed": true
   },
   "outputs": [],
   "source": [
    "def plotXiEta(XiEta_RANS, testResponses, testResponsesPred, name):\n",
    "    # Reconstruct Barycentric coordinates\n",
    "    XiEta_DNS = XiEta_RANS + testResponses\n",
    "    XiEta_ML = XiEta_RANS + testResponsesPred\n",
    "    # Plot Reynolds stress anisotropy in Barycentric triangle\n",
    "    interval = 2\n",
    "    pointsNum = int(XiEta_RANS.shape[0])\n",
    "    plt.figure()\n",
    "    plt.plot([0,1,0.5,0.5,0],[0,0,3**0.5/2.0,3**0.5/2.0,0],'g-')\n",
    "    p1, = plt.plot(XiEta_RANS[:pointsNum:interval,0],XiEta_RANS[:pointsNum:interval,1],\n",
    "                   'bo', markerfacecolor='none', markeredgecolor='b',\n",
    "                   markeredgewidth=2, markersize=10)\n",
    "    p2, = plt.plot(XiEta_DNS[:pointsNum:interval,0],XiEta_DNS[:pointsNum:interval,1],\n",
    "                   'ks', markerfacecolor='none', markeredgecolor='k',\n",
    "                   markeredgewidth=2, markersize=10)\n",
    "    p3, = plt.plot(XiEta_ML[:pointsNum:interval,0],XiEta_ML[:pointsNum:interval,1],\n",
    "                   'r^', markerfacecolor='none', markeredgecolor='r',\n",
    "                   markeredgewidth=2, markersize=10)\n",
    "    lg = plt.legend([p1,p2,p3], ['RANS', 'DNS', name], loc = 0)\n",
    "    lg.draw_frame(False)\n",
    "    plt.ylim([0,3**0.5/2.0])\n",
    "    plt.show()\n",
    "\n",
    "def iterateLines(dataFolderRANS, testResponses, testResponsesPred, name):\n",
    "    # Start index of different sample lines\n",
    "    indexList = [0, 98, 191, 287, 385, 483, 581, 679, 777, 875, 971]\n",
    "    # Make plots at x=2 and x=4\n",
    "    for iterN in [3,5]:\n",
    "        XiEta = np.loadtxt(dataFolderRANS + 'line' + str(iterN) + '_XiEta.xy')\n",
    "        startIndex = indexList[iterN-1]\n",
    "        endIndex = indexList[iterN]\n",
    "        plotXiEta(XiEta, testResponses[startIndex:endIndex,:], \n",
    "                         testResponsesPred[startIndex:endIndex,:], name)\n",
    "    #plt.show()"
   ]
  },
  {
   "cell_type": "code",
   "execution_count": null,
   "metadata": {
    "collapsed": true
   },
   "outputs": [],
   "source": [
    "def keras_nn(trainFeatures, trainResponses, testFeatures):\n",
    "    model = Sequential()\n",
    "    model.add(Dense(64, input_dim=trainFeatures.shape[1], activation='relu'))\n",
    "    model.add(Dense(32, activation='relu'))\n",
    "    model.add(Dense(2, activation='tanh'))\n",
    "    model.compile(loss='mean_squared_error', optimizer='adam')\n",
    "    model.fit(trainFeatures, trainResponses, epochs=100000, batch_size=200, verbose=0)\n",
    "    testResponsesPred = model.predict(testFeatures)\n",
    "    return testResponsesPred\n"
   ]
  },
  {
   "cell_type": "markdown",
   "metadata": {},
   "source": [
    "Now, plot the anisotropy at the two locations $x/H = 2$ and 4:"
   ]
  },
  {
   "cell_type": "code",
   "execution_count": null,
   "metadata": {
    "collapsed": true
   },
   "outputs": [],
   "source": [
    "Image(filename='figs/locations.png')"
   ]
  },
  {
   "cell_type": "code",
   "execution_count": null,
   "metadata": {
    "collapsed": true
   },
   "outputs": [],
   "source": [
    "if __name__== \"__main__\":\n",
    "    # Load data\n",
    "    trainFeatures, trainResponses = loadTrainingData('pehill', 'Re5600')\n",
    "    testFeatures, testResponses = loadTestData('pehill', 'Re10595')\n",
    "    time_begin_RF = time.time()\n",
    "    # Make prediction via the random forest regressor\n",
    "    testResponsesPred_RF = randomForest(trainFeatures, trainResponses, testFeatures, 6, 100)\n",
    "    time_end_RF = time.time()\n",
    "    # Make plots of Reynolds stress anisotropy\n",
    "    dataFolderRANS = './database/pehill/XiEta-RANS/Re10595/'\n",
    "    iterateLines(dataFolderRANS, testResponses, testResponsesPred_RF, name='RF')\n",
    "    \n",
    "    time_begin_NN = time.time()\n",
    "    # Make prediction via the neural network\n",
    "    testResponsesPred_NN = keras_nn(trainFeatures, trainResponses, testFeatures)\n",
    "    time_end_NN = time.time()\n",
    "    # Make plots of Reynolds stress anisotropy\n",
    "    dataFolderRANS = './database/pehill/XiEta-RANS/Re10595/'\n",
    "    iterateLines(dataFolderRANS, testResponses, testResponsesPred_NN, name='NN')\n",
    "    cost_time_RF = time_end_RF - time_begin_RF\n",
    "    cost_time_NN = time_end_NN - time_begin_NN"
   ]
  },
  {
   "cell_type": "code",
   "execution_count": null,
   "metadata": {
    "collapsed": true
   },
   "outputs": [],
   "source": []
  }
 ],
 "metadata": {
  "kernelspec": {
   "display_name": "Python 3",
   "language": "python",
   "name": "python3"
  },
  "language_info": {
   "codemirror_mode": {
    "name": "ipython",
    "version": 3
   },
   "file_extension": ".py",
   "mimetype": "text/x-python",
   "name": "python",
   "nbconvert_exporter": "python",
   "pygments_lexer": "ipython3",
   "version": "3.6.2"
  }
 },
 "nbformat": 4,
 "nbformat_minor": 2
}
